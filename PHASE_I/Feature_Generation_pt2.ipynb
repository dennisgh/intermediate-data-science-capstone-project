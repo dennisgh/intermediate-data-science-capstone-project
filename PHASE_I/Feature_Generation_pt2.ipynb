{
 "cells": [
  {
   "cell_type": "markdown",
   "metadata": {},
   "source": [
    "# Feature Generation pt.2\n",
    "\n",
    "This module will determine the characteristics for each executive that we found in pt.1.  \n",
    "\n",
    "## Features\n",
    "\n",
    "## Data Sources\n",
    "\n",
    "## Data Structure\n",
    "\n",
    "Pandas DF with grouped index:\n",
    "\n",
    "                      Feature 1    Feature 2\n",
    "    Name    DataSource1  \n",
    "            DataSource2  \n",
    "            DataSource3  "
   ]
  },
  {
   "cell_type": "code",
   "execution_count": 18,
   "metadata": {},
   "outputs": [],
   "source": [
    "# to work with data\n",
    "import pandas as pd\n",
    "\n",
    "# to work with regex\n",
    "import re\n",
    "\n",
    "# to download\n",
    "import requests\n",
    "\n",
    "# to work with HTML tags\n",
    "from bs4 import BeautifulSoup\n",
    "\n",
    "# to time functions\n",
    "import datetime\n",
    "\n",
    "# to use NaN\n",
    "import numpy as np\n",
    "\n",
    "# to pause\n",
    "import time\n",
    "import random\n",
    "\n",
    "# to work with local files\n",
    "import os"
   ]
  },
  {
   "cell_type": "code",
   "execution_count": 19,
   "metadata": {},
   "outputs": [
    {
     "data": {
      "text/plain": [
       "\"\\ntry:\\n    Company_Exec\\nexcept NameError:\\n    Company_Exec = pd.read_csv('Company_CEO_CFO.csv', index_col=0)\\n\""
      ]
     },
     "execution_count": 19,
     "metadata": {},
     "output_type": "execute_result"
    }
   ],
   "source": [
    "# restore the dataframe of CEO and CFO by quarter by company\n",
    "'''\n",
    "try:\n",
    "    Company_Exec\n",
    "except NameError:\n",
    "    Company_Exec = pd.read_csv('Company_CEO_CFO.csv', index_col=0)\n",
    "'''"
   ]
  },
  {
   "cell_type": "code",
   "execution_count": 20,
   "metadata": {},
   "outputs": [],
   "source": [
    "#grouped = Company_Exec.groupby('cik')"
   ]
  },
  {
   "cell_type": "code",
   "execution_count": 21,
   "metadata": {},
   "outputs": [],
   "source": [
    "#grouped.filter(lambda x: x['cik'].count() > 1)"
   ]
  },
  {
   "cell_type": "code",
   "execution_count": 22,
   "metadata": {},
   "outputs": [],
   "source": [
    "#DataFrames['SUB'][DataFrames['SUB']['name'] == 'ADVANCED MICRO DEVICES INC']"
   ]
  },
  {
   "cell_type": "code",
   "execution_count": 23,
   "metadata": {},
   "outputs": [],
   "source": [
    "Bio = \"\"\"Dr. Lisa T. Su has been the Chief Executive Officer \n",
    "and President of Advanced Micro Devices, Inc. since August 10, 2014 and \n",
    "October 2014 respectively. Dr. Su served as Chief Operating Officer of \n",
    "Advanced Micro Devices, Inc. from July 1, 2014 to October 2014. She \n",
    "served as Senior Vice President and General Manager of Global Business \n",
    "Unit at Advanced Micro Devices, Inc. from January 3, 2012 to July 2014. \n",
    "She served as Senior Vice President of Freescale Semiconductor \n",
    "Holdings I Ltd. from June 18, 2007 to December 2011 and served as its \n",
    "General Manager of Networking and Multimedia from September 2008 to \n",
    "December 2011. She is a highly-respected technology executive and has \n",
    "an Outstanding Record of business execution. She has an impressive \n",
    "track record and solid understanding of the semiconductor industry. \n",
    "She served as Senior Vice President and General Manager of Networking \n",
    "and Multimedia of Freescale Semiconductor Inc. from 2007 to 2011. \n",
    "Dr. Su served as the Chief Technology Officer of Freescale \n",
    "Semiconductor Holdings I Ltd. from June 18, 2007 to August 2009. She \n",
    "served as the Chief Technology Officer of Freescale Semiconductor Inc. \n",
    "since June 18, 2007. Dr. Su is a respected industry leader with more \n",
    "than 13 years of experience in technology development, product \n",
    "management and strategic alliances. She served as Vice President of \n",
    "Semiconductor Research and Development Center at International Business \n",
    "Machines Corp. since October 2005. She joined Freescale from IBM, where \n",
    "she served in various capacities including Vice President of Semiconductor \n",
    "Research and Development, Vice President of Technology Development and \n",
    "Alliances in the IBM Systems and Technology Group. Dr. Su served as a \n",
    "Director of the PowerPCTMproduct line and Emerging Products from 1995 \n",
    "to June 2007. She served in various technical and business positions at \n",
    "IBM including Vice President of Technology Development. She has been a \n",
    "Director of Analog Devices, Inc. since June 7, 2012 and Advanced Micro \n",
    "Devices, Inc. since October 8, 2014. She has authored or co-authored \n",
    "more than 40 technical publications and co-authored a book chapter on \n",
    "next-generation consumer electronics. She was named in MIT Technology \n",
    "Review's Top 100 Young Innovators in 2002 and received the YWCA 2003 \n",
    "Outstanding Achievement Award for Business. Prior to IBM, she was a \n",
    "member of the technical staff at Texas Instruments Incorporated in the \n",
    "Semiconductor Process and Device Center from 1994 to 1995. She is a \n",
    "Fellow of the Institute of Electronics and Electrical Engineers (IEEE). \n",
    "Dr. Su received B.S., M.S., and Doctorate Degrees in Electrical \n",
    "Engineering from the Massachusetts Institute of Technology. She has \n",
    "published more than 40 technical articles and was named a Fellow of \n",
    "the Institute of Electronics and Electrical Engineers in 2009. Dr. Su \n",
    "was named “2014 Executive of the Year” at the EETimes and EDN 2014 ACE \n",
    "Awards and was honored in MIT Technology Review’s Top 100 Young \n",
    "Innovators in 2002.\n",
    "\"\"\""
   ]
  },
  {
   "cell_type": "code",
   "execution_count": 24,
   "metadata": {},
   "outputs": [
    {
     "data": {
      "text/html": [
       "<div>\n",
       "<style scoped>\n",
       "    .dataframe tbody tr th:only-of-type {\n",
       "        vertical-align: middle;\n",
       "    }\n",
       "\n",
       "    .dataframe tbody tr th {\n",
       "        vertical-align: top;\n",
       "    }\n",
       "\n",
       "    .dataframe thead th {\n",
       "        text-align: right;\n",
       "    }\n",
       "</style>\n",
       "<table border=\"1\" class=\"dataframe\">\n",
       "  <thead>\n",
       "    <tr style=\"text-align: right;\">\n",
       "      <th></th>\n",
       "      <th>name</th>\n",
       "      <th>Bio</th>\n",
       "      <th>Gender</th>\n",
       "      <th>Degree</th>\n",
       "      <th>Awards</th>\n",
       "      <th>Career Start</th>\n",
       "      <th>Ivy League</th>\n",
       "    </tr>\n",
       "  </thead>\n",
       "  <tbody>\n",
       "    <tr>\n",
       "      <th>0</th>\n",
       "      <td>Lisa T. Su</td>\n",
       "      <td>Dr. Lisa T. Su has been the Chief Executive Of...</td>\n",
       "      <td>Female</td>\n",
       "      <td>Doctorate</td>\n",
       "      <td>True</td>\n",
       "      <td>1994</td>\n",
       "      <td>False</td>\n",
       "    </tr>\n",
       "  </tbody>\n",
       "</table>\n",
       "</div>"
      ],
      "text/plain": [
       "         name                                                Bio  Gender  \\\n",
       "0  Lisa T. Su  Dr. Lisa T. Su has been the Chief Executive Of...  Female   \n",
       "\n",
       "      Degree  Awards  Career Start  Ivy League  \n",
       "0  Doctorate    True          1994       False  "
      ]
     },
     "execution_count": 24,
     "metadata": {},
     "output_type": "execute_result"
    }
   ],
   "source": [
    "# First stab at feature extracting using rule-based logic\n",
    "fields = ['Gender', 'Degree', 'Awards', 'Career Start', 'Ivy League']\n",
    "\n",
    "df = pd.DataFrame()\n",
    "df['name'] = ['Lisa T. Su']\n",
    "df['Bio'] = Bio\n",
    "\n",
    "def features_from_bio(Bio):\n",
    "    # Determine gender based on pronouns in text\n",
    "    gender = np.nan\n",
    "    if 'she' in Bio:\n",
    "        gender = 'Female'\n",
    "    elif 'he' in Bio:\n",
    "        gender = 'Male'\n",
    "    \n",
    "    \n",
    "    # Determine degree based on mentions in text     \n",
    "    degree = np.nan\n",
    "    if 'B.S.' in Bio:\n",
    "        degree = 'Bachelor'\n",
    "    if 'M.S.' in Bio:\n",
    "        degree = 'Master'    \n",
    "    if 'Dr.' in Bio:\n",
    "        degree = 'Doctorate'\n",
    "\n",
    "    \n",
    "    # Is there any mention of awards?\n",
    "    awards = False\n",
    "    if 'Award' or 'award' in Bio:\n",
    "        awards = True\n",
    "\n",
    "    \n",
    "    # Assume the earliest year mentioned is the start of their career.    \n",
    "    years = [int(x) for x in re.findall(r'\\d{4}', str(Bio))]\n",
    "    career_start = min(years)\n",
    "\n",
    "\n",
    "    # Is there any mention of an Ivy League university?\n",
    "    IvyLeague = ['Brown University', 'Columbia University', 'Cornell University', 'Dartmouth College', 'Harvard University', 'University of Pennsylvania', 'Princeton University', 'Yale University']\n",
    "    ivy_league = False\n",
    "    for uni in IvyLeague:\n",
    "        if uni in Bio:\n",
    "            ivy_league = True\n",
    "\n",
    "    return gender, degree, awards, career_start, ivy_league\n",
    "    \n",
    "df['Gender'], df['Degree'], df['Awards'], df['Career Start'], df['Ivy League'] = \\\n",
    "zip(*df['Bio'].map(features_from_bio))\n",
    "\n",
    "df.head()"
   ]
  },
  {
   "cell_type": "markdown",
   "metadata": {},
   "source": [
    "### Information Extraction: Read this \n",
    "https://web.stanford.edu/~jurafsky/slp3/17.pdf\n",
    "\n",
    "Paragraph 5 and 6 !!\n",
    "https://www.nltk.org/book/ch07.html\n",
    "\n",
    "### Further ideas - extracurriculars:\n",
    "1. Contribute to WikiData with this information.\n",
    "2. Write blog post about information extraction with Python (Very little information available).\n"
   ]
  },
  {
   "cell_type": "code",
   "execution_count": null,
   "metadata": {},
   "outputs": [],
   "source": []
  }
 ],
 "metadata": {
  "kernelspec": {
   "display_name": "Python 3",
   "language": "python",
   "name": "python3"
  },
  "language_info": {
   "codemirror_mode": {
    "name": "ipython",
    "version": 3
   },
   "file_extension": ".py",
   "mimetype": "text/x-python",
   "name": "python",
   "nbconvert_exporter": "python",
   "pygments_lexer": "ipython3",
   "version": "3.7.2"
  }
 },
 "nbformat": 4,
 "nbformat_minor": 2
}
