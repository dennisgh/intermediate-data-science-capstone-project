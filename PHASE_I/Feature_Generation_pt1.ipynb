{
 "cells": [
  {
   "cell_type": "markdown",
   "metadata": {},
   "source": [
    "# 2. Feature Generation\n",
    "\n",
    "This module has the following purpose:\n",
    "\n",
    "1. For every company, and for the quarters from 2009Q1 to 2018Q4, identify the active CEO and CFO in that quarter."
   ]
  },
  {
   "cell_type": "markdown",
   "metadata": {},
   "source": [
    "## 2.1 CEO/CFO identification\n",
    "  \n",
    "WikiData is not robust enough for this task. In fact, of the 5 first companies in the companies list, only 1 had info on their current CEO. None of the first 5 companies had any information on past CEOs, or any CFO info.\n",
    "\n",
    "CEO and CFO are required to sign a legal certification as part of the filing. These forms are known as EXHIBIT 31.1 and EXHIBIT 31.2. This form always starts with: `I, Steven Roth, certify that:`  \n",
    "Steven Roth is either CEO or CFO. Further down in this section the officer does sign with name and title, thus yielding CEO or CFO.  \n",
    "\n",
    "These exhibits can be accessed directly, without the need to obtain and parse the full statement.\n",
    "These exhibits are available on a 'Filing Detail' page with a structured URL.  \n",
    "eg. https://www.sec.gov/Archives/edgar/data/**18498/000001849818000048/0000018498-18-000048**-index.htm\n",
    "Note the structured portion of the url is made up of CIK and ADSH.\n",
    "\n",
    "Summarized:\n",
    "1. Get the list of adsh filing codes.\n",
    "2. Access the URL that yields Filing Detail page.\n",
    "3. Use BeautifulSoup to identify the URLs to EXHIBIT 31.1 and 31.2.\n",
    "3. Use Regex and/or text matching to identify the officers.\n",
    "4. Use Regex and/or text matching to identify their titles.\n",
    "\n",
    "This will yield:  \n",
    "\n",
    "| CIK        | Quarter           | CEO  | CFO |\n",
    "| :------------ |:-------------:| -----:|-----:|\n",
    "| 00002354   | 2015Q1 | Jim Jones | Tim Bucks |\n",
    "| 00002354   | 2015Q2      |   Jim Jones | Tim Bucks |\n",
    "| 00002354 | 2015Q3      | Jane Jackson | Tim Bucks |\n",
    "\n"
   ]
  },
  {
   "cell_type": "code",
   "execution_count": 1,
   "metadata": {},
   "outputs": [],
   "source": [
    "# to work with data\n",
    "import pandas as pd\n",
    "\n",
    "# to work with regex\n",
    "import re\n",
    "\n",
    "# to download\n",
    "import requests\n",
    "\n",
    "# to work with HTML tags\n",
    "from bs4 import BeautifulSoup\n",
    "\n",
    "# to time functions\n",
    "import datetime\n",
    "\n",
    "# to use NaN\n",
    "import numpy as np\n",
    "\n",
    "# to pause\n",
    "import time\n",
    "import random\n",
    "\n",
    "# to work with local files\n",
    "import os"
   ]
  },
  {
   "cell_type": "code",
   "execution_count": 2,
   "metadata": {},
   "outputs": [],
   "source": [
    "# restore the pickled dictionary of dataframes\n",
    "try: \n",
    "    DataFrames\n",
    "except NameError:\n",
    "    DataFrames = pd.read_pickle('dict_of_dfs_num_pre_sub_tag.p')"
   ]
  },
  {
   "cell_type": "code",
   "execution_count": 3,
   "metadata": {},
   "outputs": [],
   "source": [
    "# select the adsh and cik codes to build the URL\n",
    "filings_to_obtain = DataFrames['SUB'][['adsh', 'cik']].copy()"
   ]
  },
  {
   "cell_type": "code",
   "execution_count": 4,
   "metadata": {},
   "outputs": [
    {
     "data": {
      "text/html": [
       "<div>\n",
       "<style scoped>\n",
       "    .dataframe tbody tr th:only-of-type {\n",
       "        vertical-align: middle;\n",
       "    }\n",
       "\n",
       "    .dataframe tbody tr th {\n",
       "        vertical-align: top;\n",
       "    }\n",
       "\n",
       "    .dataframe thead th {\n",
       "        text-align: right;\n",
       "    }\n",
       "</style>\n",
       "<table border=\"1\" class=\"dataframe\">\n",
       "  <thead>\n",
       "    <tr style=\"text-align: right;\">\n",
       "      <th></th>\n",
       "      <th>adsh</th>\n",
       "      <th>cik</th>\n",
       "      <th>URL</th>\n",
       "    </tr>\n",
       "  </thead>\n",
       "  <tbody>\n",
       "    <tr>\n",
       "      <th>0</th>\n",
       "      <td>0000002178-18-000067</td>\n",
       "      <td>2178</td>\n",
       "      <td>https://www.sec.gov/Archives/edgar/data/2178/0...</td>\n",
       "    </tr>\n",
       "    <tr>\n",
       "      <th>1</th>\n",
       "      <td>0000002488-18-000189</td>\n",
       "      <td>2488</td>\n",
       "      <td>https://www.sec.gov/Archives/edgar/data/2488/0...</td>\n",
       "    </tr>\n",
       "    <tr>\n",
       "      <th>2</th>\n",
       "      <td>0000002969-18-000044</td>\n",
       "      <td>2969</td>\n",
       "      <td>https://www.sec.gov/Archives/edgar/data/2969/0...</td>\n",
       "    </tr>\n",
       "  </tbody>\n",
       "</table>\n",
       "</div>"
      ],
      "text/plain": [
       "                   adsh   cik  \\\n",
       "0  0000002178-18-000067  2178   \n",
       "1  0000002488-18-000189  2488   \n",
       "2  0000002969-18-000044  2969   \n",
       "\n",
       "                                                 URL  \n",
       "0  https://www.sec.gov/Archives/edgar/data/2178/0...  \n",
       "1  https://www.sec.gov/Archives/edgar/data/2488/0...  \n",
       "2  https://www.sec.gov/Archives/edgar/data/2969/0...  "
      ]
     },
     "execution_count": 4,
     "metadata": {},
     "output_type": "execute_result"
    }
   ],
   "source": [
    "def build_filing_detail_url(row):\n",
    "    '''\n",
    "    Returns url of format\n",
    "    https://www.sec.gov/Archives/edgar/data/18498/000001849818000048/0000018498-18-000048-index.htm\n",
    "    based on adsh and cik codes.\n",
    "    '''\n",
    "    adsh = str(row['adsh'])\n",
    "    cik = str(row['cik'])\n",
    "    adsh_stripped = adsh.replace('-','')\n",
    "    \n",
    "    url = 'https://www.sec.gov/Archives/edgar/data/' + cik + '/' + adsh_stripped + '/' + adsh + '-index.htm'\n",
    "    return url\n",
    "\n",
    "filings_to_obtain['URL'] = filings_to_obtain.apply(build_filing_detail_url, axis=1)\n",
    "\n",
    "filings_to_obtain.head(3)"
   ]
  },
  {
   "cell_type": "code",
   "execution_count": 5,
   "metadata": {
    "scrolled": false
   },
   "outputs": [],
   "source": [
    "def clean(text):\n",
    "    return BeautifulSoup(text).get_text()\n",
    "\n",
    "def get_filings(URL):\n",
    "    # Polite web scraping\n",
    "    time.sleep(random.randint(1,3))\n",
    "    \n",
    "    r = requests.get(URL)\n",
    "    soup = BeautifulSoup(r.text)\n",
    "    \n",
    "    exhibits_dict = {}\n",
    "    \n",
    "    for a in soup.find_all('a', href=True):\n",
    "        # find like 'exhibit31.htm', 'fooexh31bar.html'\n",
    "        if re.search(r'.*?ex[a-z]{0,5}31.*?.htm.?', str(a)):\n",
    "            # The hrefs are relative to the domain: add domain.\n",
    "            exhibit_url = 'https://www.sec.gov'+a['href']\n",
    "            exhibit_title = a.string\n",
    "            \n",
    "            r_ex = requests.get(exhibit_url)\n",
    "            exh_text = clean(r_ex.text)\n",
    "            \n",
    "            exhibits_dict[exhibit_title] = exh_text\n",
    "    \n",
    "    if exhibits_dict:\n",
    "        return exhibits_dict\n",
    "    else:\n",
    "        return np.nan\n",
    "\n",
    "if not 'filings_exh.csv' in os.listdir('.'):\n",
    "    filings_to_obtain['Exhibits'] = filings_to_obtain['URL'].apply(get_filings)\n",
    "    filings_to_obtain.to_csv('filings_exh.csv')\n",
    "else:\n",
    "    filings_to_obtain = pd.read_csv('filings_exh.csv', index_col=0)"
   ]
  },
  {
   "cell_type": "code",
   "execution_count": 6,
   "metadata": {},
   "outputs": [
    {
     "name": "stdout",
     "output_type": "stream",
     "text": [
      "<class 'pandas.core.frame.DataFrame'>\n",
      "Int64Index: 6421 entries, 0 to 6420\n",
      "Data columns (total 4 columns):\n",
      "adsh        6421 non-null object\n",
      "cik         6421 non-null int64\n",
      "URL         6421 non-null object\n",
      "Exhibits    5527 non-null object\n",
      "dtypes: int64(1), object(3)\n",
      "memory usage: 250.8+ KB\n"
     ]
    }
   ],
   "source": [
    "filings_to_obtain.info()"
   ]
  },
  {
   "cell_type": "code",
   "execution_count": 7,
   "metadata": {},
   "outputs": [
    {
     "data": {
      "text/html": [
       "<div>\n",
       "<style scoped>\n",
       "    .dataframe tbody tr th:only-of-type {\n",
       "        vertical-align: middle;\n",
       "    }\n",
       "\n",
       "    .dataframe tbody tr th {\n",
       "        vertical-align: top;\n",
       "    }\n",
       "\n",
       "    .dataframe thead th {\n",
       "        text-align: right;\n",
       "    }\n",
       "</style>\n",
       "<table border=\"1\" class=\"dataframe\">\n",
       "  <thead>\n",
       "    <tr style=\"text-align: right;\">\n",
       "      <th></th>\n",
       "      <th>adsh</th>\n",
       "      <th>cik</th>\n",
       "      <th>URL</th>\n",
       "      <th>Exhibits</th>\n",
       "    </tr>\n",
       "  </thead>\n",
       "  <tbody>\n",
       "    <tr>\n",
       "      <th>0</th>\n",
       "      <td>0000002178-18-000067</td>\n",
       "      <td>2178</td>\n",
       "      <td>https://www.sec.gov/Archives/edgar/data/2178/0...</td>\n",
       "      <td>{'a3q2018exhibit311.htm': '\\nEX-31.1\\n3\\na3q20...</td>\n",
       "    </tr>\n",
       "    <tr>\n",
       "      <th>1</th>\n",
       "      <td>0000002488-18-000189</td>\n",
       "      <td>2488</td>\n",
       "      <td>https://www.sec.gov/Archives/edgar/data/2488/0...</td>\n",
       "      <td>{'exh311302certofceo-q318.htm': '\\nEX-31.1\\n3\\...</td>\n",
       "    </tr>\n",
       "    <tr>\n",
       "      <th>2</th>\n",
       "      <td>0000002969-18-000044</td>\n",
       "      <td>2969</td>\n",
       "      <td>https://www.sec.gov/Archives/edgar/data/2969/0...</td>\n",
       "      <td>{'apd-exhibit311x30sep20.htm': '\\nEX-31.1\\n8\\n...</td>\n",
       "    </tr>\n",
       "  </tbody>\n",
       "</table>\n",
       "</div>"
      ],
      "text/plain": [
       "                   adsh   cik  \\\n",
       "0  0000002178-18-000067  2178   \n",
       "1  0000002488-18-000189  2488   \n",
       "2  0000002969-18-000044  2969   \n",
       "\n",
       "                                                 URL  \\\n",
       "0  https://www.sec.gov/Archives/edgar/data/2178/0...   \n",
       "1  https://www.sec.gov/Archives/edgar/data/2488/0...   \n",
       "2  https://www.sec.gov/Archives/edgar/data/2969/0...   \n",
       "\n",
       "                                            Exhibits  \n",
       "0  {'a3q2018exhibit311.htm': '\\nEX-31.1\\n3\\na3q20...  \n",
       "1  {'exh311302certofceo-q318.htm': '\\nEX-31.1\\n3\\...  \n",
       "2  {'apd-exhibit311x30sep20.htm': '\\nEX-31.1\\n8\\n...  "
      ]
     },
     "execution_count": 7,
     "metadata": {},
     "output_type": "execute_result"
    }
   ],
   "source": [
    "filings_to_obtain.head(3)"
   ]
  },
  {
   "cell_type": "code",
   "execution_count": 8,
   "metadata": {},
   "outputs": [],
   "source": [
    "def extract_names_titles(exh):\n",
    "    regex = r'I,.(.+?),?.certify.that:.+?(Chief.+?Officer|(?<!Vice )President(?! and Chief))'\n",
    "    exh = clean(str(exh))\n",
    "    match = re.findall(regex, str(exh), re.DOTALL)\n",
    "    if match:\n",
    "        return match\n",
    "    else:\n",
    "        return np.nan\n",
    "\n",
    "filings_to_obtain['Officers'] = filings_to_obtain['Exhibits'].apply(extract_names_titles)"
   ]
  },
  {
   "cell_type": "code",
   "execution_count": 9,
   "metadata": {},
   "outputs": [],
   "source": [
    "# The names and titles are embedded in a list of tuples. \n",
    "# This cell structures them into two proper columns.\n",
    "\n",
    "def return_name_given_title(officer_list, list_of_titles):\n",
    "    if officer_list and type(officer_list) is list:\n",
    "        result = []\n",
    "        for tuples in officer_list:\n",
    "            if tuples[1] in list_of_titles:\n",
    "                if not tuples[0] in result:\n",
    "                    result.append(tuples[0])\n",
    "        if result:\n",
    "            res_str = str(result[0])\n",
    "            commapos = res_str.find(',')\n",
    "            return res_str[:commapos]\n",
    "        else:\n",
    "            return np.nan\n",
    "        \n",
    "filings_to_obtain['CEO'] = filings_to_obtain['Officers'].apply(return_name_given_title, args=(\n",
    "                                                                     ['Chief Executive Officer', 'President'], ))\n",
    "filings_to_obtain['CFO'] = filings_to_obtain['Officers'].apply(return_name_given_title, args=(\n",
    "                                                                     ['Chief Financial Officer'], ))"
   ]
  },
  {
   "cell_type": "code",
   "execution_count": 14,
   "metadata": {},
   "outputs": [],
   "source": [
    "# Combine the results with the submission information ('SUB') dataframe.\n",
    "\n",
    "CompInfo = DataFrames['SUB'][['adsh', 'cik', 'name', 'stprba', 'period', 'fy', 'fp', 'filed']].copy()\n",
    "Company_CEO_CFO = pd.merge(\n",
    "    CompInfo, \n",
    "    filings_to_obtain[['adsh', 'CEO', 'CFO']], \n",
    "    left_on='adsh', \n",
    "    right_on='adsh', \n",
    "    how='left')"
   ]
  },
  {
   "cell_type": "code",
   "execution_count": 16,
   "metadata": {},
   "outputs": [
    {
     "name": "stdout",
     "output_type": "stream",
     "text": [
      "<class 'pandas.core.frame.DataFrame'>\n",
      "Int64Index: 6421 entries, 0 to 6420\n",
      "Data columns (total 10 columns):\n",
      "adsh      6421 non-null object\n",
      "cik       6421 non-null int64\n",
      "name      6421 non-null object\n",
      "stprba    5875 non-null object\n",
      "period    6421 non-null int64\n",
      "fy        6420 non-null float64\n",
      "fp        6419 non-null object\n",
      "filed     6421 non-null int64\n",
      "CEO       4724 non-null object\n",
      "CFO       3958 non-null object\n",
      "dtypes: float64(1), int64(3), object(6)\n",
      "memory usage: 551.8+ KB\n"
     ]
    }
   ],
   "source": [
    "# ca. 75% of filings have CEO and 62% have CFO.\n",
    "Company_CEO_CFO.info()"
   ]
  },
  {
   "cell_type": "code",
   "execution_count": 12,
   "metadata": {},
   "outputs": [
    {
     "data": {
      "text/html": [
       "<div>\n",
       "<style scoped>\n",
       "    .dataframe tbody tr th:only-of-type {\n",
       "        vertical-align: middle;\n",
       "    }\n",
       "\n",
       "    .dataframe tbody tr th {\n",
       "        vertical-align: top;\n",
       "    }\n",
       "\n",
       "    .dataframe thead th {\n",
       "        text-align: right;\n",
       "    }\n",
       "</style>\n",
       "<table border=\"1\" class=\"dataframe\">\n",
       "  <thead>\n",
       "    <tr style=\"text-align: right;\">\n",
       "      <th></th>\n",
       "      <th>adsh</th>\n",
       "      <th>cik</th>\n",
       "      <th>name</th>\n",
       "      <th>stprba</th>\n",
       "      <th>period</th>\n",
       "      <th>fy</th>\n",
       "      <th>fp</th>\n",
       "      <th>filed</th>\n",
       "      <th>CEO</th>\n",
       "      <th>CFO</th>\n",
       "    </tr>\n",
       "  </thead>\n",
       "  <tbody>\n",
       "    <tr>\n",
       "      <th>0</th>\n",
       "      <td>0000002178-18-000067</td>\n",
       "      <td>2178</td>\n",
       "      <td>ADAMS RESOURCES &amp; ENERGY, INC.</td>\n",
       "      <td>TX</td>\n",
       "      <td>20180930</td>\n",
       "      <td>2018.0</td>\n",
       "      <td>Q3</td>\n",
       "      <td>20181107</td>\n",
       "      <td>NaN</td>\n",
       "      <td>Townes G. Pressle</td>\n",
       "    </tr>\n",
       "    <tr>\n",
       "      <th>1</th>\n",
       "      <td>0000002488-18-000189</td>\n",
       "      <td>2488</td>\n",
       "      <td>ADVANCED MICRO DEVICES INC</td>\n",
       "      <td>CA</td>\n",
       "      <td>20180930</td>\n",
       "      <td>2018.0</td>\n",
       "      <td>Q3</td>\n",
       "      <td>20181031</td>\n",
       "      <td>Lisa T. S</td>\n",
       "      <td>Devinder Kuma</td>\n",
       "    </tr>\n",
       "    <tr>\n",
       "      <th>2</th>\n",
       "      <td>0000002969-18-000044</td>\n",
       "      <td>2969</td>\n",
       "      <td>AIR PRODUCTS &amp; CHEMICALS INC /DE/</td>\n",
       "      <td>PA</td>\n",
       "      <td>20180930</td>\n",
       "      <td>2018.0</td>\n",
       "      <td>FY</td>\n",
       "      <td>20181120</td>\n",
       "      <td>Seifi Ghasem</td>\n",
       "      <td>M. Scott Crocc</td>\n",
       "    </tr>\n",
       "  </tbody>\n",
       "</table>\n",
       "</div>"
      ],
      "text/plain": [
       "                   adsh   cik                               name stprba  \\\n",
       "0  0000002178-18-000067  2178     ADAMS RESOURCES & ENERGY, INC.     TX   \n",
       "1  0000002488-18-000189  2488         ADVANCED MICRO DEVICES INC     CA   \n",
       "2  0000002969-18-000044  2969  AIR PRODUCTS & CHEMICALS INC /DE/     PA   \n",
       "\n",
       "     period      fy  fp     filed           CEO                CFO  \n",
       "0  20180930  2018.0  Q3  20181107           NaN  Townes G. Pressle  \n",
       "1  20180930  2018.0  Q3  20181031     Lisa T. S      Devinder Kuma  \n",
       "2  20180930  2018.0  FY  20181120  Seifi Ghasem     M. Scott Crocc  "
      ]
     },
     "execution_count": 12,
     "metadata": {},
     "output_type": "execute_result"
    }
   ],
   "source": [
    "Company_CEO_CFO.head(3)"
   ]
  },
  {
   "cell_type": "code",
   "execution_count": 13,
   "metadata": {},
   "outputs": [],
   "source": [
    "if not 'Company_CEO_CFO.csv' in os.listdir('.'):\n",
    "    Company_CEO_CFO.to_csv('Company_CEO_CFO.csv')"
   ]
  },
  {
   "cell_type": "markdown",
   "metadata": {},
   "source": [
    "## Result\n",
    "\n",
    "We now have a CSV of CEO (74% of filings) and CFO (62% of filings) on filing date."
   ]
  }
 ],
 "metadata": {
  "kernelspec": {
   "display_name": "Python 3",
   "language": "python",
   "name": "python3"
  },
  "language_info": {
   "codemirror_mode": {
    "name": "ipython",
    "version": 3
   },
   "file_extension": ".py",
   "mimetype": "text/x-python",
   "name": "python",
   "nbconvert_exporter": "python",
   "pygments_lexer": "ipython3",
   "version": "3.7.2"
  }
 },
 "nbformat": 4,
 "nbformat_minor": 2
}
