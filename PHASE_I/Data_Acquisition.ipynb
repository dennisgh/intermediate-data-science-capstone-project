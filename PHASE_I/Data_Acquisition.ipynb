{
 "cells": [
  {
   "cell_type": "markdown",
   "metadata": {},
   "source": [
    "# DATA ACQUISITION\n",
    "\n",
    "The purpose of this module is to  \n",
    "1. Download the Financial Statement Data Sets from the SEC website: https://www.sec.gov/dera/data/financial-statement-data-sets.html  \n",
    "2. Unzip the data and store locally."
   ]
  },
  {
   "cell_type": "code",
   "execution_count": 1,
   "metadata": {},
   "outputs": [],
   "source": [
    "# BeautifulSoup is needed to scrape the SEC page.\n",
    "from bs4 import BeautifulSoup\n",
    "\n",
    "# requests is needed to download the zip file data\n",
    "import requests\n",
    "\n",
    "# zipfile is needed to extract the zip files\n",
    "import zipfile"
   ]
  },
  {
   "cell_type": "code",
   "execution_count": 33,
   "metadata": {},
   "outputs": [
    {
     "name": "stdout",
     "output_type": "stream",
     "text": [
      "https://www.sec.gov/files/dera/data/financial-statement-data-sets/2018q4.zip\n",
      "https://www.sec.gov/files/dera/data/financial-statement-data-sets/2018q3.zip\n",
      "https://www.sec.gov/files/dera/data/financial-statement-data-sets/2018q2.zip\n",
      "https://www.sec.gov/files/dera/data/financial-statement-data-sets/2018q1.zip\n",
      "https://www.sec.gov/files/dera/data/financial-statement-data-sets/2017q4.zip\n",
      "https://www.sec.gov/files/dera/data/financial-statement-data-sets/2017q3.zip\n",
      "https://www.sec.gov/files/dera/data/financial-statement-data-sets/2017q2.zip\n",
      "https://www.sec.gov/files/dera/data/financial-statement-data-sets/2017q1.zip\n",
      "https://www.sec.gov/files/dera/data/financial-statement-data-sets/2016q4.zip\n",
      "https://www.sec.gov/files/dera/data/financial-statement-data-sets/2016q3.zip\n",
      "https://www.sec.gov/files/dera/data/financial-statement-data-sets/2016q2.zip\n",
      "https://www.sec.gov/files/dera/data/financial-statement-data-sets/2016q1.zip\n",
      "https://www.sec.gov/files/dera/data/financial-statement-data-sets/2015q4.zip\n",
      "https://www.sec.gov/files/dera/data/financial-statement-data-sets/2015q3.zip\n",
      "https://www.sec.gov/files/dera/data/financial-statement-data-sets/2015q2.zip\n",
      "https://www.sec.gov/files/dera/data/financial-statement-data-sets/2015q1.zip\n",
      "https://www.sec.gov/files/dera/data/financial-statement-data-sets/2014q4.zip\n",
      "https://www.sec.gov/files/dera/data/financial-statement-data-sets/2014q3.zip\n",
      "https://www.sec.gov/files/dera/data/financial-statement-data-sets/2014q2.zip\n",
      "https://www.sec.gov/files/dera/data/financial-statement-data-sets/2014q1.zip\n",
      "https://www.sec.gov/files/dera/data/financial-statement-data-sets/2013q4.zip\n",
      "https://www.sec.gov/files/dera/data/financial-statement-data-sets/2013q3.zip\n",
      "https://www.sec.gov/files/dera/data/financial-statement-data-sets/2013q2.zip\n",
      "https://www.sec.gov/files/dera/data/financial-statement-data-sets/2013q1.zip\n",
      "https://www.sec.gov/files/dera/data/financial-statement-data-sets/2012q4.zip\n",
      "https://www.sec.gov/files/dera/data/financial-statement-data-sets/2012q3.zip\n",
      "https://www.sec.gov/files/dera/data/financial-statement-data-sets/2012q2.zip\n",
      "https://www.sec.gov/files/dera/data/financial-statement-data-sets/2012q1.zip\n",
      "https://www.sec.gov/files/dera/data/financial-statement-data-sets/2011q4.zip\n",
      "https://www.sec.gov/files/dera/data/financial-statement-data-sets/2011q3.zip\n",
      "https://www.sec.gov/files/dera/data/financial-statement-data-sets/2011q2.zip\n",
      "https://www.sec.gov/files/dera/data/financial-statement-data-sets/2011q1.zip\n",
      "https://www.sec.gov/files/dera/data/financial-statement-data-sets/2010q4.zip\n",
      "https://www.sec.gov/files/dera/data/financial-statement-data-sets/2010q3.zip\n",
      "https://www.sec.gov/files/dera/data/financial-statement-data-sets/2010q2.zip\n",
      "https://www.sec.gov/files/dera/data/financial-statement-data-sets/2010q1.zip\n",
      "https://www.sec.gov/files/dera/data/financial-statement-data-sets/2009q4.zip\n",
      "https://www.sec.gov/files/dera/data/financial-statement-data-sets/2009q3.zip\n",
      "https://www.sec.gov/files/dera/data/financial-statement-data-sets/2009q2.zip\n",
      "https://www.sec.gov/files/dera/data/financial-statement-data-sets/2009q1.zip\n"
     ]
    }
   ],
   "source": [
    "# Open the SEC website\n",
    "page_url = 'https://www.sec.gov/dera/data/financial-statement-data-sets.html'\n",
    "r = requests.get(page_url)\n",
    "html_doc = r.text\n",
    "\n",
    "# Use beautifulsoup to get the web URLs\n",
    "soup = BeautifulSoup(html_doc)\n",
    "# Find all hyperlinks pointing to .zip files\n",
    "for a in soup.find_all('a', href=True):\n",
    "    # TODO: Do this with regex ????q?.zip\n",
    "    if '.zip' in a['href']:\n",
    "        # The hrefs are relative to the domain: add domain.\n",
    "        zip_file_url = 'https://www.sec.gov'+a['href']\n",
    "        # download(zip_file_url)\n",
    "        # extract(zip_file_url)\n",
    " \n",
    "# DO THE ZIP-MATCHING WITH REGEX\n",
    "#import re\n",
    "#regex = re.compile('th.s')\n",
    "#l = ['this', 'is', 'just', 'a', 'test']\n",
    "#matches = [string for string in l if re.match(regex, string)]"
   ]
  },
  {
   "cell_type": "code",
   "execution_count": null,
   "metadata": {},
   "outputs": [],
   "source": []
  }
 ],
 "metadata": {
  "kernelspec": {
   "display_name": "Python 3",
   "language": "python",
   "name": "python3"
  },
  "language_info": {
   "codemirror_mode": {
    "name": "ipython",
    "version": 3
   },
   "file_extension": ".py",
   "mimetype": "text/x-python",
   "name": "python",
   "nbconvert_exporter": "python",
   "pygments_lexer": "ipython3",
   "version": "3.7.2"
  }
 },
 "nbformat": 4,
 "nbformat_minor": 2
}
